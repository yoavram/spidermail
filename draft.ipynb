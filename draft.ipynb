{
 "metadata": {
  "name": ""
 },
 "nbformat": 3,
 "nbformat_minor": 0,
 "worksheets": [
  {
   "cells": [
    {
     "cell_type": "code",
     "collapsed": false,
     "input": [
      "import requests as req\n",
      "import re"
     ],
     "language": "python",
     "metadata": {},
     "outputs": [],
     "prompt_number": 1
    },
    {
     "cell_type": "code",
     "collapsed": false,
     "input": [
      "max_depth = 1"
     ],
     "language": "python",
     "metadata": {},
     "outputs": [],
     "prompt_number": 66
    },
    {
     "cell_type": "code",
     "collapsed": false,
     "input": [
      "email_pattern = re.compile(r\"[a-z0-9!#$%&'*+/=?^_`{|}~-]+(?:\\.[a-z0-9!#$%&'*+/=?^_`{|}~-]+)*@(?:[a-z0-9](?:[a-z0-9-]*[a-z0-9])?\\.)+(?:[A-Z]{2}|com|org|net|edu|gov|mil|biz|info|mobi|name|aero|asia|jobs|museum|mx|com\\.mx|xxx|tv|tk)\\b\")\n",
      "url_pattern = re.compile(r'href=[\\'\"]?([^\\'\" >]+)')"
     ],
     "language": "python",
     "metadata": {},
     "outputs": [],
     "prompt_number": 10
    },
    {
     "cell_type": "code",
     "collapsed": false,
     "input": [
      "def load_urls(filename=\"urls.txt\"):\n",
      "    urls = {}\n",
      "    with open(filename) as fin:\n",
      "        for line in fin:\n",
      "            urls[line.strip()] = 0\n",
      "    return urls\n",
      "urls = load_urls()"
     ],
     "language": "python",
     "metadata": {},
     "outputs": [],
     "prompt_number": 72
    },
    {
     "cell_type": "code",
     "collapsed": false,
     "input": [
      "def get_emails(url):\n",
      "    if not url.startswith('http://'):\n",
      "        url = base_url + url\n",
      "    r = req.get(url)\n",
      "    if not r.ok:\n",
      "        print \"Failed getting emails from\", url\n",
      "        return []\n",
      "    emails = email_pattern.findall(r.content)\n",
      "    emails = list(set(emails))\n",
      "    print \"Got %d emails from %s\" % (len(emails), url)\n",
      "    return emails\n",
      "        \n",
      "get_emails(r'/faculty/directory/10010/Alford')"
     ],
     "language": "python",
     "metadata": {},
     "outputs": [
      {
       "output_type": "stream",
       "stream": "stdout",
       "text": [
        "Got 2 emails from http://www.law.harvard.edu/faculty/directory/10010/Alford\n"
       ]
      },
      {
       "metadata": {},
       "output_type": "pyout",
       "prompt_number": 91,
       "text": [
        "['johnson@law.harvard.edu', 'alford@law.harvard.edu']"
       ]
      }
     ],
     "prompt_number": 91
    },
    {
     "cell_type": "code",
     "collapsed": false,
     "input": [
      "def get_base_url(url):\n",
      "    if url.startswith('http://'):\n",
      "        i = url[7:].index('/')\n",
      "        base_url = url[:i+7]\n",
      "    else:\n",
      "        i = url.index('/')\n",
      "        base_url = url[:i]\n",
      "    return base_url\n",
      "base_url = get_base_url(urls.keys()[0])"
     ],
     "language": "python",
     "metadata": {},
     "outputs": [],
     "prompt_number": 74
    },
    {
     "cell_type": "code",
     "collapsed": false,
     "input": [
      "def get_urls(url, depth):\n",
      "    base_url = get_base_url(url)\n",
      "    r = req.get(url)\n",
      "    if not r.ok:\n",
      "        print \"Failed getting links from\", url\n",
      "        return\n",
      "    links = url_pattern.findall(r.content)\n",
      "    print \"Got %d links from %s\" % (len(links), url)\n",
      "    for i,link in enumerate(links):\n",
      "        if link.startswith('/'):\n",
      "            link = base_url + link\n",
      "        elif not links.startswith(base_url):\n",
      "            continue\n",
      "        else:\n",
      "            urls[link] = depth + 1\n",
      "    return links"
     ],
     "language": "python",
     "metadata": {},
     "outputs": [],
     "prompt_number": 77
    },
    {
     "cell_type": "code",
     "collapsed": false,
     "input": [
      "max_depth = 1"
     ],
     "language": "python",
     "metadata": {},
     "outputs": [],
     "prompt_number": 87
    },
    {
     "cell_type": "code",
     "collapsed": false,
     "input": [
      "def crawl(urls):\n",
      "    emails = []\n",
      "    links = {}\n",
      "    for url,depth in urls.items():\n",
      "        emails.extend( get_emails(url) )\n",
      "        if depth < max_depth:\n",
      "            links.update( get_links(url,depth) )\n",
      "    if links:\n",
      "        emails.extend(crawl(links))\n",
      "    return emails\n",
      "emails = crawl(urls)\n",
      "print emails"
     ],
     "language": "python",
     "metadata": {},
     "outputs": [
      {
       "output_type": "stream",
       "stream": "stdout",
       "text": [
        "Got 141 links from http://www.law.harvard.edu/faculty/\n",
        "Failed getting emails from"
       ]
      },
      {
       "output_type": "stream",
       "stream": "stdout",
       "text": [
        " http://www.law.harvard.edu/a\n",
        "Failed getting emails from"
       ]
      },
      {
       "output_type": "stream",
       "stream": "stdout",
       "text": [
        " http://www.law.harvard.edu/current/student-services/doso/secure/index.html\n",
        "['rshepsle@fas.harvard.edu', 'jbarton@law.harvard.edu', 'jcoates@law.harvard.edu', 'lberg@law.harvard.edu', 'alumnionline@law.harvard.edu', 'ebarthol@law.harvard.edu', 'etopping@law.harvard.edu', 'emlewis@law.harvard.edu', 'bebchuk@law.harvard.edu', 'online@lists.law.harvard.edu', 'jdadmiss@law.harvard.edu', 'szucker@law.harvard.edu', 'jbarton@law.harvard.edu', 'hlsa@law.harvard.edu', 'facmgmt@law.harvard.edu', 'hlsgreenteam-list@lists.hcs.harvard.edu', 'sustainability@law.harvard.edu', 'bulletin@law.harvard.edu', 'aro@law.harvard.edu', 'facmgmt@law.harvard.edu', 'alumnionline@law.harvard.edu', 'rbordone@law.harvard.edu', 'tblanchard@law.harvard.edu', 'registrar@law.harvard.edu', 'clark@law.harvard.edu', 'kgoldstein@law.harvard.edu', 'online@law.harvard.edu', 'csmart@law.harvard.edu', 'ybenkler@law.harvard.edu', 'tlc@hls.law.harvard.edu', 'mkelley@law.harvard.edu', 'andrews@law.harvard.edu', 'igcohen@law.harvard.edu', 'kburroughs@law.harvard.edu', 'hrs@law.harvard.edu', 'acovitz@law.harvard.edu', 'lbrem@law.harvard.edu', 'brudney@law.harvard.edu', 'muzuner@law.harvard.edu', 'reunions@law.harvard.edu', 'tbrownnagin@law.harvard.edu', 'wmoore@law.harvard.edu', 'hlsa@law.harvard.edu', 'specialc@law.harvard.edu', 'video@lists.law.harvard.edu', 'pio@lists.law.harvard.edu', 'photo@law.harvard.edu', 'conner@law.harvard.edu', 'gblum@law.harvard.edu', 'cosgrove@law.harvard.edu', 'rlondon@law.harvard.edu', 'kdulin@law.harvard.edu', 'jarcipre@law.harvard.edu', 'bgaucherin@law.harvard.edu', 'fmccrossan@law.harvard.edu', 'mbowen@law.harvard.edu', 'dlong@law.harvard.edu', 'mpearse@law.harvard.edu', 'jsel@mail.law.harvard.edu', 'nsj@mail.law.harvard.edu', 'hblr@mail.law.harvard.edu', 'crcleics45@gmail.com', 'hlsilj@mail.law.harvard.edu', 'hlselr@mail.law.harvard.edu', 'hlsjol@law.harvard.edu', 'jlpp@law.harvard.edu', 'hlpr@mail.law.harvard.edu', 'hnlr@mail.law.harvard.edu', 'unbound@mail.law.harvard.edu', 'harvardllr@gmail.com', 'hlsjlg@mail.law.harvard.edu', 'jolt@mail.law.harvard.edu', 'hlsblj@mail.law.harvard.edu', 'hlshrj@law.harvard.edu', 'dsaylors@law.harvard.edu', 'johnson@law.harvard.edu', 'alford@law.harvard.edu', 'fazzone@law.harvard.edu', 'dbarron@law.harvard.edu', 'alumrec@law.harvard.edu', 'accessibility@law.harvard.edu', 'brubrecht@law.harvard.edu', 'danker@law.harvard.edu', 'bsears@law.harvard.edu', 'sbrewer@law.harvard.edu', 'opia@law.harvard.edu', 'events@law.harvard.edu', 'environmental@law.harvard.edu', 'cji@law.harvard.edu', 'av@law.harvard.edu', 'cap@law.harvard.edu', 'sfs@law.harvard.edu', 'ocs@law.harvard.edu', 'oaa@law.harvard.edu', 'petrie-flom@law.harvard.edu', 'gpquery@law.harvard.edu', 'situationism@law.harvard.edu', 'info@hpod.org', 'hlshelp@law.harvard.edu', 'alumni@law.harvard.edu', 'hni@law.harvard.edu', 'houstoninst@law.harvard.edu', 'lbaptist@law.harvard.edu', 'ilsp@law.harvard.edu', 'ils@law.harvard.edu', 'hrs@law.harvard.edu', 'facmgmt@law.harvard.edu', 'housing@law.harvard.edu', 'clinical@law.harvard.edu', 'mrobinson@law.harvard.edu', 'cyber@law.harvard.edu', 'hrp@law.harvard.edu', 'pifs@law.harvard.edu', 'eals@law.harvard.edu', 'jdadmiss@law.harvard.edu', 'hlsa@law.harvard.edu', 'abarry@law.harvard.edu', 'itp@law.harvard.edu', 'pon@law.harvard.edu', 'lbrem@law.harvard.edu', 'reunions@law.harvard.edu', 'mpeachy@law.harvard.edu']"
       ]
      },
      {
       "output_type": "stream",
       "stream": "stdout",
       "text": [
        "\n"
       ]
      }
     ],
     "prompt_number": 90
    },
    {
     "cell_type": "code",
     "collapsed": false,
     "input": [
      "def write_emails(emails, filename=\"emails.txt\"):\n",
      "    with open(filename, 'w') as fout:\n",
      "        for em in emails:\n",
      "            fout.write(em)\n",
      "            fout.write('\\n')\n",
      "    print \"%d emails written to %s\" % (len(emails), filename)\n",
      "write_emails(emails)"
     ],
     "language": "python",
     "metadata": {},
     "outputs": [
      {
       "output_type": "stream",
       "stream": "stdout",
       "text": [
        "122 emails written to emails.txt\n"
       ]
      }
     ],
     "prompt_number": 92
    },
    {
     "cell_type": "code",
     "collapsed": false,
     "input": [
      "def read_emails(filename=\"emails.txt\"):\n",
      "    emails = []\n",
      "    with open(filename) as fin:\n",
      "        for line in fin:\n",
      "            emails.append( line.strip() )\n",
      "    print \"%d emails read from %s\" % (len(emails), filename)\n",
      "    return emails\n",
      "read_emails()"
     ],
     "language": "python",
     "metadata": {},
     "outputs": [
      {
       "output_type": "stream",
       "stream": "stdout",
       "text": [
        "122 emails read from emails.txt\n"
       ]
      },
      {
       "metadata": {},
       "output_type": "pyout",
       "prompt_number": 97,
       "text": [
        "['rshepsle@fas.harvard.edu',\n",
        " 'jbarton@law.harvard.edu',\n",
        " 'jcoates@law.harvard.edu',\n",
        " 'lberg@law.harvard.edu',\n",
        " 'alumnionline@law.harvard.edu',\n",
        " 'ebarthol@law.harvard.edu',\n",
        " 'etopping@law.harvard.edu',\n",
        " 'emlewis@law.harvard.edu',\n",
        " 'bebchuk@law.harvard.edu',\n",
        " 'online@lists.law.harvard.edu',\n",
        " 'jdadmiss@law.harvard.edu',\n",
        " 'szucker@law.harvard.edu',\n",
        " 'jbarton@law.harvard.edu',\n",
        " 'hlsa@law.harvard.edu',\n",
        " 'facmgmt@law.harvard.edu',\n",
        " 'hlsgreenteam-list@lists.hcs.harvard.edu',\n",
        " 'sustainability@law.harvard.edu',\n",
        " 'bulletin@law.harvard.edu',\n",
        " 'aro@law.harvard.edu',\n",
        " 'facmgmt@law.harvard.edu',\n",
        " 'alumnionline@law.harvard.edu',\n",
        " 'rbordone@law.harvard.edu',\n",
        " 'tblanchard@law.harvard.edu',\n",
        " 'registrar@law.harvard.edu',\n",
        " 'clark@law.harvard.edu',\n",
        " 'kgoldstein@law.harvard.edu',\n",
        " 'online@law.harvard.edu',\n",
        " 'csmart@law.harvard.edu',\n",
        " 'ybenkler@law.harvard.edu',\n",
        " 'tlc@hls.law.harvard.edu',\n",
        " 'mkelley@law.harvard.edu',\n",
        " 'andrews@law.harvard.edu',\n",
        " 'igcohen@law.harvard.edu',\n",
        " 'kburroughs@law.harvard.edu',\n",
        " 'hrs@law.harvard.edu',\n",
        " 'acovitz@law.harvard.edu',\n",
        " 'lbrem@law.harvard.edu',\n",
        " 'brudney@law.harvard.edu',\n",
        " 'muzuner@law.harvard.edu',\n",
        " 'reunions@law.harvard.edu',\n",
        " 'tbrownnagin@law.harvard.edu',\n",
        " 'wmoore@law.harvard.edu',\n",
        " 'hlsa@law.harvard.edu',\n",
        " 'specialc@law.harvard.edu',\n",
        " 'video@lists.law.harvard.edu',\n",
        " 'pio@lists.law.harvard.edu',\n",
        " 'photo@law.harvard.edu',\n",
        " 'conner@law.harvard.edu',\n",
        " 'gblum@law.harvard.edu',\n",
        " 'cosgrove@law.harvard.edu',\n",
        " 'rlondon@law.harvard.edu',\n",
        " 'kdulin@law.harvard.edu',\n",
        " 'jarcipre@law.harvard.edu',\n",
        " 'bgaucherin@law.harvard.edu',\n",
        " 'fmccrossan@law.harvard.edu',\n",
        " 'mbowen@law.harvard.edu',\n",
        " 'dlong@law.harvard.edu',\n",
        " 'mpearse@law.harvard.edu',\n",
        " 'jsel@mail.law.harvard.edu',\n",
        " 'nsj@mail.law.harvard.edu',\n",
        " 'hblr@mail.law.harvard.edu',\n",
        " 'crcleics45@gmail.com',\n",
        " 'hlsilj@mail.law.harvard.edu',\n",
        " 'hlselr@mail.law.harvard.edu',\n",
        " 'hlsjol@law.harvard.edu',\n",
        " 'jlpp@law.harvard.edu',\n",
        " 'hlpr@mail.law.harvard.edu',\n",
        " 'hnlr@mail.law.harvard.edu',\n",
        " 'unbound@mail.law.harvard.edu',\n",
        " 'harvardllr@gmail.com',\n",
        " 'hlsjlg@mail.law.harvard.edu',\n",
        " 'jolt@mail.law.harvard.edu',\n",
        " 'hlsblj@mail.law.harvard.edu',\n",
        " 'hlshrj@law.harvard.edu',\n",
        " 'dsaylors@law.harvard.edu',\n",
        " 'johnson@law.harvard.edu',\n",
        " 'alford@law.harvard.edu',\n",
        " 'fazzone@law.harvard.edu',\n",
        " 'dbarron@law.harvard.edu',\n",
        " 'alumrec@law.harvard.edu',\n",
        " 'accessibility@law.harvard.edu',\n",
        " 'brubrecht@law.harvard.edu',\n",
        " 'danker@law.harvard.edu',\n",
        " 'bsears@law.harvard.edu',\n",
        " 'sbrewer@law.harvard.edu',\n",
        " 'opia@law.harvard.edu',\n",
        " 'events@law.harvard.edu',\n",
        " 'environmental@law.harvard.edu',\n",
        " 'cji@law.harvard.edu',\n",
        " 'av@law.harvard.edu',\n",
        " 'cap@law.harvard.edu',\n",
        " 'sfs@law.harvard.edu',\n",
        " 'ocs@law.harvard.edu',\n",
        " 'oaa@law.harvard.edu',\n",
        " 'petrie-flom@law.harvard.edu',\n",
        " 'gpquery@law.harvard.edu',\n",
        " 'situationism@law.harvard.edu',\n",
        " 'info@hpod.org',\n",
        " 'hlshelp@law.harvard.edu',\n",
        " 'alumni@law.harvard.edu',\n",
        " 'hni@law.harvard.edu',\n",
        " 'houstoninst@law.harvard.edu',\n",
        " 'lbaptist@law.harvard.edu',\n",
        " 'ilsp@law.harvard.edu',\n",
        " 'ils@law.harvard.edu',\n",
        " 'hrs@law.harvard.edu',\n",
        " 'facmgmt@law.harvard.edu',\n",
        " 'housing@law.harvard.edu',\n",
        " 'clinical@law.harvard.edu',\n",
        " 'mrobinson@law.harvard.edu',\n",
        " 'cyber@law.harvard.edu',\n",
        " 'hrp@law.harvard.edu',\n",
        " 'pifs@law.harvard.edu',\n",
        " 'eals@law.harvard.edu',\n",
        " 'jdadmiss@law.harvard.edu',\n",
        " 'hlsa@law.harvard.edu',\n",
        " 'abarry@law.harvard.edu',\n",
        " 'itp@law.harvard.edu',\n",
        " 'pon@law.harvard.edu',\n",
        " 'lbrem@law.harvard.edu',\n",
        " 'reunions@law.harvard.edu',\n",
        " 'mpeachy@law.harvard.edu']"
       ]
      }
     ],
     "prompt_number": 97
    },
    {
     "cell_type": "code",
     "collapsed": false,
     "input": [
      "! python spidermail.py"
     ],
     "language": "python",
     "metadata": {},
     "outputs": [
      {
       "output_type": "stream",
       "stream": "stdout",
       "text": [
        "^C\n"
       ]
      }
     ],
     "prompt_number": 102
    },
    {
     "cell_type": "code",
     "collapsed": false,
     "input": [],
     "language": "python",
     "metadata": {},
     "outputs": []
    }
   ],
   "metadata": {}
  }
 ]
}